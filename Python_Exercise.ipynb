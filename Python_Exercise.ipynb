{
  "nbformat": 4,
  "nbformat_minor": 0,
  "metadata": {
    "colab": {
      "name": "Python Exercise.ipynb",
      "version": "0.3.2",
      "provenance": [],
      "collapsed_sections": [],
      "include_colab_link": true
    },
    "kernelspec": {
      "name": "python3",
      "display_name": "Python 3"
    }
  },
  "cells": [
    {
      "cell_type": "markdown",
      "metadata": {
        "id": "view-in-github",
        "colab_type": "text"
      },
      "source": [
        "<a href=\"https://colab.research.google.com/github/TChanel/Python-Execise-CS361/blob/master/Python_Exercise.ipynb\" target=\"_parent\"><img src=\"https://colab.research.google.com/assets/colab-badge.svg\" alt=\"Open In Colab\"/></a>"
      ]
    },
    {
      "metadata": {
        "id": "J5zOv2c7-zw3",
        "colab_type": "text"
      },
      "cell_type": "markdown",
      "source": [
        "**Exercise 1**\n",
        "\n",
        "a) 1.6 - divides int by int and recieveint for answer\n",
        "\n",
        "b)2 - finds the module of an into divided by an int\n",
        "\n",
        "c)1.6 -  divide a double by a int, and the answer becomes a double\n",
        "\n",
        "d)1.6 - divide a int by a double, and the answer becomes a double\n",
        "\n",
        "e )2.2  - divide a double by a int, and the answer becomes a double"
      ]
    },
    {
      "metadata": {
        "id": "neI97lWhEtzF",
        "colab_type": "code",
        "colab": {}
      },
      "cell_type": "code",
      "source": [
        "print(5/3) #five divided by 3\n",
        "print(5%3) #five mod three returns the remainder\n",
        "print(5.0/3) #five divided by 3\n",
        "print(5/3.0) #five divided by 3\n",
        "\\print(5.2%3) #five divided by 3\n"
      ],
      "execution_count": 0,
      "outputs": []
    },
    {
      "metadata": {
        "id": "d93_9siz-jxP",
        "colab_type": "text"
      },
      "cell_type": "markdown",
      "source": [
        "**Exercise 2**\n",
        "\n",
        "a) 'Numerical result out of range' - It couldn't print out a numbe because the computer doesn't have memory space tothe holdthe number, unliked in the previous exercise where the numbers are more reasonable. \n",
        "\n",
        "b) 1.0 - addition with decimals\n",
        "\n",
        "c) 0.0 - the computer has enough space to store the answer, because the answeris within range\n",
        "\n"
      ]
    },
    {
      "metadata": {
        "id": "iokovnJIEb4H",
        "colab_type": "code",
        "colab": {}
      },
      "cell_type": "code",
      "source": [
        "#print(2000.3**200)\n",
        "print(1.0+1.0-1.0)\n",
        "print(1.0 + 1.0e20 - 1.0e20)"
      ],
      "execution_count": 0,
      "outputs": []
    },
    {
      "metadata": {
        "id": "R9hBLq1_mPsS",
        "colab_type": "text"
      },
      "cell_type": "markdown",
      "source": [
        "**Exercise 3**\n",
        "\n",
        "a) 123 - it prints x out as a float, even if theres no decimal\n",
        " \n",
        "b)123 - it print out x as a float, even if theres no decimal\n",
        "\n",
        "c)123.23 - literals can be conveted into floats\n",
        "\n",
        "d)123.23\n",
        "\n",
        "e) Invalid literal for int() with base 10 - this literal would have to be convered to a float\n",
        "\n",
        "f) 123.23 -\n",
        "\n",
        "g) 12 - convereted x into string\n",
        "\n",
        "h) 12.2 - convertex x into a string\n",
        "\n",
        "I) a - converts a into a bool\n",
        "\n",
        "j) 0=converts 0 into a bool\n",
        "\n",
        "k) 0.1 - converts 0.1 into a bool\n",
        "\n",
        "\n"
      ]
    },
    {
      "metadata": {
        "id": "NaslxbAVDmTW",
        "colab_type": "code",
        "colab": {}
      },
      "cell_type": "code",
      "source": [
        "x = float(123) #a\n",
        "print(x)\n",
        "x = float('123') #b\n",
        "print(x)\n",
        "x = float('123.23') #c\n",
        "print(x)\n",
        "x = int(123.23) #d\n",
        "print(x)\n",
        "#x = int('123.23')    gets error\n",
        "#print(x)\n",
        "x = int(float('123.23')) #e\n",
        "print(x)\n",
        "x = str(12) #g\n",
        "print(x)\n",
        "x = str(12.2)#h\n",
        "print(x)\n",
        "x = bool('a') #l\n",
        "print(x)\n",
        "x = bool(0) #j\n",
        "print(x)\n",
        "x = bool(0.1) #k\n",
        "print(x)"
      ],
      "execution_count": 0,
      "outputs": []
    },
    {
      "metadata": {
        "id": "OCTmZavRAVoE",
        "colab_type": "text"
      },
      "cell_type": "markdown",
      "source": [
        "**Exercise 4**\n",
        "\n",
        "Range (5) returns Range(0, 5)\n",
        "Range(i) reutrns the the value of what i is equal too.\n",
        "Type(Range(5)) returns Range\n"
      ]
    },
    {
      "metadata": {
        "id": "fqBxe3RGCqHj",
        "colab_type": "code",
        "colab": {
          "base_uri": "https://localhost:8080/",
          "height": 34
        },
        "outputId": "370c6bd7-9aab-4de4-ed95-4c82000b3e08"
      },
      "cell_type": "code",
      "source": [
        "#Exercise 4\n",
        "\n",
        "range(5)\n",
        "range(i)\n",
        "type(range(5))"
      ],
      "execution_count": 32,
      "outputs": [
        {
          "output_type": "execute_result",
          "data": {
            "text/plain": [
              "range"
            ]
          },
          "metadata": {
            "tags": []
          },
          "execution_count": 32
        }
      ]
    },
    {
      "metadata": {
        "id": "-fF8taOrLgGj",
        "colab_type": "code",
        "colab": {}
      },
      "cell_type": "code",
      "source": [
        "# Exercise 5\n",
        "\n",
        "f = 0\n",
        "x = 11\n",
        "while  f < 20:\n",
        "  if ((x%5 == 0) & (x%11 == 0) & (x%7 == 0)):\n",
        "     print (x)\n",
        "     f = f + 1\n",
        "x = x + 1"
      ],
      "execution_count": 0,
      "outputs": []
    },
    {
      "metadata": {
        "id": "qAOTSZO7zs3O",
        "colab_type": "code",
        "outputId": "1f49253d-f491-40e9-de3b-093810bbb3cd",
        "colab": {
          "base_uri": "https://localhost:8080/",
          "height": 622
        }
      },
      "cell_type": "code",
      "source": [
        "#Exercise 6\n",
        "#PART A\n",
        "\n",
        "def is_prime(n):\n",
        "    if (n%2 == 0):\n",
        "        print (\"False\")\n",
        "    elif (n%3 == 0):\n",
        "        print (\"False\")\n",
        "    elif (n%5 == 0):\n",
        "        print (\"False\")\n",
        "    elif (n%7 == 0):\n",
        "        print (\"False\")\n",
        "    else:\n",
        "        print (\"True\")\n",
        "     \n",
        "is_prime(6)\n",
        "\n",
        "#PART B\n",
        "\n",
        "def is_prime(n):\n",
        "    if (6*n + 1 == 0):\n",
        "        print (\"True\")\n",
        "    elif (6*n - 1 == 0):\n",
        "        print (\"True\")\n",
        "    else:\n",
        "        print (\"False\")\n",
        "     \n",
        "is_prime(6)\n",
        "\n",
        "#PART C\n",
        "\n",
        "for num in range(2,101):\n",
        "  if all(num % n!=0 for n in range(2,num)):\n",
        "    print(num)\n",
        "\n",
        "#PART D\n",
        "\n",
        "upperLim = int(input(\"Enter upper limit: \"))\n",
        "\n",
        "for x in range(2,upperLim +1):\n",
        "    b = 0\n",
        "\n",
        "    for n in range(2,x//2+1):\n",
        "        if(x%n==0):\n",
        "            b=b+1\n",
        "    if(b<=0):\n",
        "        print(x)\n",
        "\n",
        "\n"
      ],
      "execution_count": 29,
      "outputs": [
        {
          "output_type": "stream",
          "text": [
            "False\n",
            "False\n",
            "2\n",
            "3\n",
            "5\n",
            "7\n",
            "11\n",
            "13\n",
            "17\n",
            "19\n",
            "23\n",
            "29\n",
            "31\n",
            "37\n",
            "41\n",
            "43\n",
            "47\n",
            "53\n",
            "59\n",
            "61\n",
            "67\n",
            "71\n",
            "73\n",
            "79\n",
            "83\n",
            "89\n",
            "97\n",
            "Enter upper limit: 20\n",
            "2\n",
            "3\n",
            "5\n",
            "7\n",
            "11\n",
            "13\n",
            "17\n",
            "19\n"
          ],
          "name": "stdout"
        }
      ]
    },
    {
      "metadata": {
        "id": "Fl-nrW-dmcQM",
        "colab_type": "code",
        "colab": {
          "base_uri": "https://localhost:8080/",
          "height": 168
        },
        "outputId": "28d14184-f02e-4d15-994f-9a9777fc076b"
      },
      "cell_type": "code",
      "source": [
        "#Exercise 7\n",
        "#PART A\n",
        "\n",
        "friends = ['Jasmine', 'Carolina', 'Tessa', 'Catherine']\n",
        "\n",
        "for name in friends:\n",
        "  print(name)\n",
        "  \n",
        "#PART B\n",
        "\n",
        "friends = ['Jasmine', 'Carolina', 'Tessa', 'Catherine']\n",
        "\n",
        "for name in reversed(friends):\n",
        "  print(name)\n",
        "  \n",
        " #PART C\n",
        "\n",
        "friends = ['Jasmine', 'Carolina', 'Tessa', 'Catherine', 'Jackie', 'Kendra', 'Michelle', 'Jordyn']\n",
        "len(friends)"
      ],
      "execution_count": 11,
      "outputs": [
        {
          "output_type": "stream",
          "text": [
            "Jasmine\n",
            "Carolina\n",
            "Tessa\n",
            "Catherine\n",
            "Catherine\n",
            "Tessa\n",
            "Carolina\n",
            "Jasmine\n"
          ],
          "name": "stdout"
        },
        {
          "output_type": "execute_result",
          "data": {
            "text/plain": [
              "8"
            ]
          },
          "metadata": {
            "tags": []
          },
          "execution_count": 11
        }
      ]
    },
    {
      "metadata": {
        "id": "DeZfe_Wm5eOd",
        "colab_type": "code",
        "colab": {
          "base_uri": "https://localhost:8080/",
          "height": 118
        },
        "outputId": "ac041724-d9e4-4633-82d9-9d68dfc892f5"
      },
      "cell_type": "code",
      "source": [
        "#EXERCISE 8\n",
        "\n",
        "friends = ['Kayla', 'Sasha', 'Tifanny', 'Selena', 'Melanie'] #set a - pa\n",
        "coworkers = [] #set b\n",
        "coworkers = friends\n",
        "#for name in friends: # elements in function friends did not change\n",
        " # print(name)\n",
        "#for name in coworkers:\n",
        " # print(name)\n",
        "sisters = friends[:] #set c\n",
        "sisters [2] = 'Madeline'\n",
        "#for name in sisters:\n",
        "  #print(name)\n",
        "#for name in friends: # elements in function friend did not change\n",
        " # print(name)\n",
        "  \n",
        "def setFirstElemToZero(n):\n",
        "   n = []\n",
        "   return n\n",
        "    \n",
        "\n",
        "print(setFirstElemToZero(friends))\n",
        "\n",
        "for names in friends: #the original list still puts out the name, but if you set it to the method, no names will print out\n",
        "  print(names)\n",
        "\n",
        "\n",
        "  "
      ],
      "execution_count": 36,
      "outputs": [
        {
          "output_type": "stream",
          "text": [
            "[]\n",
            "Kayla\n",
            "Sasha\n",
            "Tifanny\n",
            "Selena\n",
            "Melanie\n"
          ],
          "name": "stdout"
        }
      ]
    },
    {
      "metadata": {
        "id": "f1ItsgVFGf7I",
        "colab_type": "code",
        "colab": {
          "base_uri": "https://localhost:8080/",
          "height": 151
        },
        "outputId": "6573697e-3300-4a21-8d37-bed19a61f6d0"
      },
      "cell_type": "code",
      "source": [
        "#Exercise 9\n",
        "\n",
        "twins = [['Hailey', 'Bailey'], ['Sara', 'Tara'], ['Kiara', 'Ciara'], ['Stacy', 'Tracy']]\n",
        "\n",
        "for twin in twins:\n",
        "    for sibling in twin:\n",
        "        print (sibling)"
      ],
      "execution_count": 56,
      "outputs": [
        {
          "output_type": "stream",
          "text": [
            "Hailey\n",
            "Bailey\n",
            "Sara\n",
            "Tara\n",
            "Kiara\n",
            "Ciara\n",
            "Stacy\n",
            "Tracy\n"
          ],
          "name": "stdout"
        }
      ]
    },
    {
      "metadata": {
        "id": "_nzn7h1PaE-7",
        "colab_type": "code",
        "colab": {
          "base_uri": "https://localhost:8080/",
          "height": 376
        },
        "outputId": "e0fc03cc-ffe9-4ea5-f077-cc4f364bb133"
      },
      "cell_type": "code",
      "source": [
        "#Exercise 10\n",
        "\n",
        "import matplotlib.pyplot as plt\n",
        "import numpy as np\n",
        "\n",
        "def f(x):\n",
        "  return(np.sin(x-2)**2)*(np.e**(-x**2))\n",
        "\n",
        "x = np.arange(0, 10\n",
        "              \n",
        "              \n",
        "              , .2)\n",
        "y = f(x)\n",
        "\n",
        "\n",
        "plt.title(\"F(X) = sin^2(x-2) * e^-x^-2\")\n",
        "plt.xlabel('x-axis')\n",
        "plt.ylabel('y-axis')\n",
        "plt.plot(x,y)\n",
        "plt.grid(True)\n",
        "plt.show()\n"
      ],
      "execution_count": 8,
      "outputs": [
        {
          "output_type": "display_data",
          "data": {
            "image/png": "[encoded data removed]",
            "text/plain": [
              "<matplotlib.figure.Figure at 0x7f859000e668>"
            ]
          },
          "metadata": {
            "tags": []
          }
        }
      ]
    },
    {
      "metadata": {
        "id": "mqrcUBtS5KqD",
        "colab_type": "code",
        "colab": {
          "base_uri": "https://localhost:8080/",
          "height": 34
        },
        "outputId": "c2cce259-f844-408f-861e-d53e368f1247"
      },
      "cell_type": "code",
      "source": [
        "#Exercise 11\n",
        "\n",
        "#Using iteration\n",
        "products = [1, 2, 3, 4]\n",
        "\n",
        "\n",
        "def productLoop(n):\n",
        "  \n",
        "  prodSum = 1\n",
        "  for product in products:\n",
        "    prodSum = prodSum * product\n",
        "  return prodSum\n",
        "\n",
        "productLoop(products)\n",
        "\n",
        "#Using Recursion\n",
        "\n",
        "def productRecur(n):\n",
        "\n",
        "  prodSum = 1\n",
        "\n",
        "  if (len(n) == 1):\n",
        "    return n[0]\n",
        "  else:\n",
        "    return n[0] * productRecur(n[1:])\n",
        "  \n",
        "productRecur(products)"
      ],
      "execution_count": 10,
      "outputs": [
        {
          "output_type": "execute_result",
          "data": {
            "text/plain": [
              "24"
            ]
          },
          "metadata": {
            "tags": []
          },
          "execution_count": 10
        }
      ]
    },
    {
      "metadata": {
        "id": "1rKSkeEcBE5y",
        "colab_type": "code",
        "colab": {
          "base_uri": "https://localhost:8080/",
          "height": 34
        },
        "outputId": "a1864704-40e5-4cc5-a042-05fa2cc1edb4"
      },
      "cell_type": "code",
      "source": [
        "#Excercise 12\n",
        "\n",
        "def Fibo(n):\n",
        "\n",
        "    if(n==0):\n",
        "        return 0\n",
        "    elif(n==1):\n",
        "        return 1\n",
        "    else:\n",
        "        return Fibo(n-1) + Fibo(n-2)\n",
        "\n",
        " \n",
        "\n",
        "print(Fibo(14))"
      ],
      "execution_count": 28,
      "outputs": [
        {
          "output_type": "stream",
          "text": [
            "377\n"
          ],
          "name": "stdout"
        }
      ]
    },
    {
      "metadata": {
        "id": "FBpwn9xsBkMO",
        "colab_type": "code",
        "colab": {
          "base_uri": "https://localhost:8080/",
          "height": 229
        },
        "outputId": "cc1d0d4d-b006-4470-deb1-64b1f120a1e0"
      },
      "cell_type": "code",
      "source": [
        "file = open(\"emails.txt\", \"r\")\n",
        "\n",
        "print(re.search('[a-zA-Z]*@[a-zA-Z]*\\.[a-zA-Z]*', 'asdfd@asfsd.afs'))\n",
        "\n",
        "for line in file:\n",
        "\n",
        "    match = re.search('[a-zA-Z]+@[a-zA-Z]+\\.[a-zA-Z]+', line)\n",
        "\n",
        "    print(match)"
      ],
      "execution_count": 29,
      "outputs": [
        {
          "output_type": "error",
          "ename": "FileNotFoundError",
          "evalue": "ignored",
          "traceback": [
            "\u001b[0;31m---------------------------------------------------------------------------\u001b[0m",
            "\u001b[0;31mFileNotFoundError\u001b[0m                         Traceback (most recent call last)",
            "\u001b[0;32m<ipython-input-29-30b0986c434d>\u001b[0m in \u001b[0;36m<module>\u001b[0;34m()\u001b[0m\n\u001b[0;32m----> 1\u001b[0;31m \u001b[0mfile\u001b[0m  \u001b[0;34m=\u001b[0m \u001b[0mopen\u001b[0m\u001b[0;34m(\u001b[0m\u001b[0;34m\"emails.txt\"\u001b[0m\u001b[0;34m,\u001b[0m \u001b[0;34m\"r\"\u001b[0m\u001b[0;34m)\u001b[0m\u001b[0;34m\u001b[0m\u001b[0;34m\u001b[0m\u001b[0m\n\u001b[0m\u001b[1;32m      2\u001b[0m \u001b[0;34m\u001b[0m\u001b[0m\n\u001b[1;32m      3\u001b[0m \u001b[0mprint\u001b[0m\u001b[0;34m(\u001b[0m\u001b[0mre\u001b[0m\u001b[0;34m.\u001b[0m\u001b[0msearch\u001b[0m\u001b[0;34m(\u001b[0m\u001b[0;34m'[a-zA-Z]*@[a-zA-Z]*\\.[a-zA-Z]*'\u001b[0m\u001b[0;34m,\u001b[0m \u001b[0;34m'asdfd@asfsd.afs'\u001b[0m\u001b[0;34m)\u001b[0m\u001b[0;34m)\u001b[0m\u001b[0;34m\u001b[0m\u001b[0;34m\u001b[0m\u001b[0m\n\u001b[1;32m      4\u001b[0m \u001b[0;34m\u001b[0m\u001b[0m\n\u001b[1;32m      5\u001b[0m \u001b[0;32mfor\u001b[0m \u001b[0mline\u001b[0m \u001b[0;32min\u001b[0m \u001b[0mfile\u001b[0m\u001b[0;34m:\u001b[0m\u001b[0;34m\u001b[0m\u001b[0;34m\u001b[0m\u001b[0m\n",
            "\u001b[0;31mFileNotFoundError\u001b[0m: [Errno 2] No such file or directory: 'emails.txt'"
          ]
        }
      ]
    }
  ]
}